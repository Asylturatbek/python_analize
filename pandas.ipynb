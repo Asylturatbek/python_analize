{
 "cells": [
  {
   "cell_type": "code",
   "execution_count": 1,
   "metadata": {},
   "outputs": [
    {
     "name": "stdout",
     "output_type": "stream",
     "text": [
      "         country  drives_right  cars_per_cap\n",
      "0  United States          True           809\n",
      "1      Australia         False           731\n",
      "2          Japan         False           588\n",
      "3          India         False            18\n",
      "4         Russia          True           200\n",
      "5        Morocco          True            70\n",
      "6          Egypt          True            45\n"
     ]
    }
   ],
   "source": [
    "import pandas as pd\n",
    "\n",
    "names = ['United States', 'Australia', 'Japan', 'India', 'Russia', 'Morocco', 'Egypt']\n",
    "dr =  [True, False, False, False, True, True, True]\n",
    "cpc = [809, 731, 588, 18, 200, 70, 45]\n",
    "my_dict = {\n",
    "    'country':names,\n",
    "    'drives_right':dr,\n",
    "    'cars_per_cap':cpc\n",
    "}\n",
    "\n",
    "cars = pd.DataFrame(my_dict)\n",
    "print(cars)"
   ]
  },
  {
   "cell_type": "code",
   "execution_count": 8,
   "metadata": {},
   "outputs": [
    {
     "name": "stdout",
     "output_type": "stream",
     "text": [
      "           country  drives_right  cars_per_cap\n",
      "US   United States          True           809\n",
      "AUS      Australia         False           731\n",
      "JPN          Japan         False           588\n",
      "IN           India         False            18\n",
      "RU          Russia          True           200\n",
      "MOR        Morocco          True            70\n",
      "EG           Egypt          True            45\n"
     ]
    }
   ],
   "source": [
    "row_labels = ['US', 'AUS', 'JPN', 'IN', 'RU', 'MOR', 'EG']\n",
    "cars.index = row_labels\n",
    "print(cars)"
   ]
  },
  {
   "cell_type": "code",
   "execution_count": 11,
   "metadata": {},
   "outputs": [
    {
     "name": "stdout",
     "output_type": "stream",
     "text": [
      "afhanistan has 14.6 population\n",
      "albania has 6.4 population\n",
      "belgium has 3.3 population\n",
      "dict_items([('afhanistan', 14.6), ('albania', 6.4), ('belgium', 3.3)])\n"
     ]
    }
   ],
   "source": [
    "# This is implementation of looping through python dictionary\n",
    "world = {\n",
    "    'afhanistan': 14.6,\n",
    "    'albania': 6.4,\n",
    "    'belgium': 3.3\n",
    "}\n",
    "for country, pop in world.items():\n",
    "    print('{x} has {y} population'.format(x=country, y=pop))\n",
    "\n",
    "print(world.items())"
   ]
  },
  {
   "cell_type": "code",
   "execution_count": 16,
   "metadata": {},
   "outputs": [
    {
     "name": "stdout",
     "output_type": "stream",
     "text": [
      "1\n",
      "2\n",
      "3\n",
      "4\n",
      "5\n",
      "some is mine, ok?\n",
      "all is yours, ok?\n",
      "mine is very great, ok?\n",
      "yours is not so great, ok?\n"
     ]
    }
   ],
   "source": [
    "some = (1, 2, 3, 4, 5)\n",
    "somekwarg = {\n",
    "    'mine': 'very great',\n",
    "    'yours': 'not so great'\n",
    "}\n",
    "\n",
    "def goon1(*args):\n",
    "    for i in args:\n",
    "        print(i)\n",
    "        \n",
    "# unpacking with *\n",
    "goon1(*some)\n",
    "\n",
    "\n",
    "def goon(**kwargs):\n",
    "    for key, value in kwargs.items():\n",
    "        print('{kev} is {value}, ok?'.format(kev = key, value = value))\n",
    "goon(some=\"mine\", all='yours')\n",
    "\n",
    "# unpacking kwargs with **\n",
    "goon(**somekwarg)"
   ]
  },
  {
   "cell_type": "code",
   "execution_count": null,
   "metadata": {},
   "outputs": [],
   "source": []
  }
 ],
 "metadata": {
  "kernelspec": {
   "display_name": "Python 3",
   "language": "python",
   "name": "python3"
  },
  "language_info": {
   "codemirror_mode": {
    "name": "ipython",
    "version": 3
   },
   "file_extension": ".py",
   "mimetype": "text/x-python",
   "name": "python",
   "nbconvert_exporter": "python",
   "pygments_lexer": "ipython3",
   "version": "3.8.0"
  }
 },
 "nbformat": 4,
 "nbformat_minor": 4
}
